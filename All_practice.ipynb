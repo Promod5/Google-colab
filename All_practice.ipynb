{
  "nbformat": 4,
  "nbformat_minor": 0,
  "metadata": {
    "colab": {
      "provenance": [],
      "authorship_tag": "ABX9TyO3oc7CWmeNSWuJl/+1kOjG",
      "include_colab_link": true
    },
    "kernelspec": {
      "name": "python3",
      "display_name": "Python 3"
    },
    "language_info": {
      "name": "python"
    }
  },
  "cells": [
    {
      "cell_type": "markdown",
      "metadata": {
        "id": "view-in-github",
        "colab_type": "text"
      },
      "source": [
        "<a href=\"https://colab.research.google.com/github/Promod5/Google-colab/blob/main/All_practice.ipynb\" target=\"_parent\"><img src=\"https://colab.research.google.com/assets/colab-badge.svg\" alt=\"Open In Colab\"/></a>"
      ]
    },
    {
      "cell_type": "code",
      "execution_count": null,
      "metadata": {
        "colab": {
          "base_uri": "https://localhost:8080/"
        },
        "id": "Xfl0flD8lX7I",
        "outputId": "8f07e0fa-b448-4f67-aec9-175442faaaeb"
      },
      "outputs": [
        {
          "output_type": "stream",
          "name": "stdout",
          "text": [
            "**********\n"
          ]
        }
      ],
      "source": [
        "print('*' * 10)"
      ]
    },
    {
      "cell_type": "markdown",
      "source": [],
      "metadata": {
        "id": "U-92kmeApum0"
      }
    },
    {
      "cell_type": "code",
      "source": [
        "a=\"promod bariker \"\n",
        "print(a[0:5])"
      ],
      "metadata": {
        "colab": {
          "base_uri": "https://localhost:8080/"
        },
        "id": "YKQB4ziypvgM",
        "outputId": "9774ecc3-225e-4178-83a6-4d7f9da6f749"
      },
      "execution_count": null,
      "outputs": [
        {
          "output_type": "stream",
          "name": "stdout",
          "text": [
            "promo\n"
          ]
        }
      ]
    },
    {
      "cell_type": "code",
      "source": [
        "a=\"hai\"\n",
        "b=123\n",
        "bc=123.123\n",
        "c=True\n",
        "print(type(a))\n",
        "print(b+bc)"
      ],
      "metadata": {
        "colab": {
          "base_uri": "https://localhost:8080/"
        },
        "id": "nVncbje2wimV",
        "outputId": "bc5c4d2f-0e34-4e46-c120-e202e85979c2"
      },
      "execution_count": null,
      "outputs": [
        {
          "output_type": "stream",
          "name": "stdout",
          "text": [
            "<class 'str'>\n",
            "246.123\n"
          ]
        }
      ]
    },
    {
      "cell_type": "markdown",
      "source": [],
      "metadata": {
        "id": "sCdBAUBV2Qqe"
      }
    },
    {
      "cell_type": "code",
      "source": [
        "my_list=[\"list\",30,8.3,]\n",
        "my_list"
      ],
      "metadata": {
        "colab": {
          "base_uri": "https://localhost:8080/"
        },
        "id": "B3LzofXu2QN5",
        "outputId": "decd76d5-faa0-4ced-af75-428a7ecb29cb"
      },
      "execution_count": null,
      "outputs": [
        {
          "output_type": "execute_result",
          "data": {
            "text/plain": [
              "['list', 30, 8.3]"
            ]
          },
          "metadata": {},
          "execution_count": 12
        }
      ]
    },
    {
      "cell_type": "code",
      "source": [
        "my_list=[\"list\",30,8.3,]\n",
        "my_list.append(\"extra\")\n",
        "my_list"
      ],
      "metadata": {
        "colab": {
          "base_uri": "https://localhost:8080/"
        },
        "id": "FisfE-5B3lvq",
        "outputId": "1c2163d8-14f9-4f61-d2e1-8587bec0f377"
      },
      "execution_count": null,
      "outputs": [
        {
          "output_type": "execute_result",
          "data": {
            "text/plain": [
              "['list', 30, 8.3, 'extra']"
            ]
          },
          "metadata": {},
          "execution_count": 16
        }
      ]
    },
    {
      "cell_type": "code",
      "source": [
        "my_list=[\"list\",30,8.3,]\n",
        "my_list.append([1,2,3,4])\n",
        "my_list"
      ],
      "metadata": {
        "colab": {
          "base_uri": "https://localhost:8080/"
        },
        "id": "7m5sw8xG4ywJ",
        "outputId": "1e7c6bee-c44e-47f2-ab01-85e98e08a27b"
      },
      "execution_count": null,
      "outputs": [
        {
          "output_type": "execute_result",
          "data": {
            "text/plain": [
              "['list', 30, 8.3, [1, 2, 3, 4]]"
            ]
          },
          "metadata": {},
          "execution_count": 18
        }
      ]
    },
    {
      "cell_type": "code",
      "source": [
        "my_list=[\"list\",30,8.3,]\n",
        "my_list.extend([1,2,3,4])\n",
        "my_list"
      ],
      "metadata": {
        "colab": {
          "base_uri": "https://localhost:8080/"
        },
        "id": "gIutjVNc5JTr",
        "outputId": "63f16470-9bf3-444e-a110-b9c73d310ff9"
      },
      "execution_count": null,
      "outputs": [
        {
          "output_type": "execute_result",
          "data": {
            "text/plain": [
              "['list', 30, 8.3, 1, 2, 3, 4]"
            ]
          },
          "metadata": {},
          "execution_count": 19
        }
      ]
    },
    {
      "cell_type": "code",
      "source": [
        "for i in range (10):\n",
        " print (i)"
      ],
      "metadata": {
        "colab": {
          "base_uri": "https://localhost:8080/"
        },
        "id": "JAIoPGA1TF4Y",
        "outputId": "ba83b6d1-2160-417d-e8d6-482036820c29"
      },
      "execution_count": null,
      "outputs": [
        {
          "output_type": "stream",
          "name": "stdout",
          "text": [
            "0\n",
            "1\n",
            "2\n",
            "3\n",
            "4\n",
            "5\n",
            "6\n",
            "7\n",
            "8\n",
            "9\n"
          ]
        }
      ]
    },
    {
      "cell_type": "code",
      "source": [
        "i=list(range (10))\n",
        "i"
      ],
      "metadata": {
        "colab": {
          "base_uri": "https://localhost:8080/"
        },
        "id": "8Aea1QsTThGB",
        "outputId": "8413ad45-df06-4707-dd9e-606a4042627b"
      },
      "execution_count": null,
      "outputs": [
        {
          "output_type": "execute_result",
          "data": {
            "text/plain": [
              "[0, 1, 2, 3, 4, 5, 6, 7, 8, 9]"
            ]
          },
          "metadata": {},
          "execution_count": 26
        }
      ]
    },
    {
      "cell_type": "code",
      "source": [
        "i[0:5]"
      ],
      "metadata": {
        "colab": {
          "base_uri": "https://localhost:8080/"
        },
        "id": "sgN4XhHZT9ZU",
        "outputId": "c8c6ea79-2b0a-485f-ad8f-7973b16d8912"
      },
      "execution_count": null,
      "outputs": [
        {
          "output_type": "execute_result",
          "data": {
            "text/plain": [
              "[0, 1, 2, 3, 4]"
            ]
          },
          "metadata": {},
          "execution_count": 27
        }
      ]
    },
    {
      "cell_type": "code",
      "source": [
        "i[1:9:2]"
      ],
      "metadata": {
        "colab": {
          "base_uri": "https://localhost:8080/"
        },
        "id": "CUKHrqWbUd_A",
        "outputId": "4709b2ab-eb92-49b2-9af7-a804f7497218"
      },
      "execution_count": null,
      "outputs": [
        {
          "output_type": "execute_result",
          "data": {
            "text/plain": [
              "[1, 3, 5, 7]"
            ]
          },
          "metadata": {},
          "execution_count": 29
        }
      ]
    },
    {
      "cell_type": "code",
      "source": [
        "my_dict = {'name':['Promod','sample1','sample2'],\"surname\":\"Bariker\",\"city\":\"Banglore\"}\n",
        "my_dict['name'][0]"
      ],
      "metadata": {
        "colab": {
          "base_uri": "https://localhost:8080/",
          "height": 35
        },
        "id": "EPoEMY7TXPh8",
        "outputId": "a497a670-2f3d-4dc2-bb50-8272f330b1cc"
      },
      "execution_count": null,
      "outputs": [
        {
          "output_type": "execute_result",
          "data": {
            "text/plain": [
              "'Promod'"
            ],
            "application/vnd.google.colaboratory.intrinsic+json": {
              "type": "string"
            }
          },
          "metadata": {},
          "execution_count": 49
        }
      ]
    },
    {
      "cell_type": "code",
      "source": [
        "my_dict = {'name':['Promod','sample1','sample2'],\"surname\":\"Bariker\",\"city\":\"Banglore\"}\n",
        "my_dict['name'][0:2]"
      ],
      "metadata": {
        "colab": {
          "base_uri": "https://localhost:8080/"
        },
        "id": "gN_YImh-aBmY",
        "outputId": "4d40cf49-15e6-47f2-9337-a301010cd039"
      },
      "execution_count": null,
      "outputs": [
        {
          "output_type": "execute_result",
          "data": {
            "text/plain": [
              "['Promod', 'sample1']"
            ]
          },
          "metadata": {},
          "execution_count": 50
        }
      ]
    },
    {
      "cell_type": "code",
      "source": [
        "l=[1,2,3,2,1,1,4,5,6,7,1,2,1]\n",
        "set(l)"
      ],
      "metadata": {
        "colab": {
          "base_uri": "https://localhost:8080/"
        },
        "id": "jOCGnRjOAux6",
        "outputId": "d9d0e36a-b05c-4b47-b74a-fb7f7d2ec27f"
      },
      "execution_count": null,
      "outputs": [
        {
          "output_type": "execute_result",
          "data": {
            "text/plain": [
              "{1, 2, 3, 4, 5, 6, 7}"
            ]
          },
          "metadata": {},
          "execution_count": 2
        }
      ]
    },
    {
      "cell_type": "code",
      "source": [
        "list_1=[1,2,3,4,5,6,7,8,9,10]\n",
        "\n",
        "for number1 in list_1:\n",
        "  if number1 %2==0:\n",
        "    print(f\"The number is even number {number1}\")\n",
        "  else:\n",
        "    print(f\"The number is odd number {number}\")\n"
      ],
      "metadata": {
        "colab": {
          "base_uri": "https://localhost:8080/"
        },
        "id": "vYhMP2OgM1Cz",
        "outputId": "0a32523e-281b-4b52-d07c-d46d0c74a2a9"
      },
      "execution_count": null,
      "outputs": [
        {
          "output_type": "stream",
          "name": "stdout",
          "text": [
            "The number is odd number 10\n",
            "The number is even number 2\n",
            "The number is odd number 10\n",
            "The number is even number 4\n",
            "The number is odd number 10\n",
            "The number is even number 6\n",
            "The number is odd number 10\n",
            "The number is even number 8\n",
            "The number is odd number 10\n",
            "The number is even number 10\n"
          ]
        }
      ]
    },
    {
      "cell_type": "code",
      "source": [
        "x=3\n",
        "\n",
        "while x<10:\n",
        "  print(f\"the value of the x is {x}\")\n",
        "  x=x+1"
      ],
      "metadata": {
        "colab": {
          "base_uri": "https://localhost:8080/"
        },
        "id": "_fO6uMTxUN0O",
        "outputId": "1d320e90-7595-4993-927f-39ac12f57b6d"
      },
      "execution_count": null,
      "outputs": [
        {
          "output_type": "stream",
          "name": "stdout",
          "text": [
            "the value of the x is 3\n",
            "the value of the x is 4\n",
            "the value of the x is 5\n",
            "the value of the x is 6\n",
            "the value of the x is 7\n",
            "the value of the x is 8\n",
            "the value of the x is 9\n"
          ]
        }
      ]
    },
    {
      "cell_type": "code",
      "source": [
        "my_list = [x**2 for x in range(3)]\n",
        "print(my_list)"
      ],
      "metadata": {
        "id": "MO9WKvyHX9Ef",
        "colab": {
          "base_uri": "https://localhost:8080/"
        },
        "outputId": "af51e67f-8255-49d8-dbd9-45e4127e41e4"
      },
      "execution_count": null,
      "outputs": [
        {
          "output_type": "stream",
          "name": "stdout",
          "text": [
            "[0, 1, 4]\n"
          ]
        }
      ]
    },
    {
      "cell_type": "code",
      "source": [
        "f = open(\"my_file.txt\",'w')\n",
        "f.write(\"this is my first line\\n\")"
      ],
      "metadata": {
        "colab": {
          "base_uri": "https://localhost:8080/"
        },
        "id": "fUIvEp1JNXna",
        "outputId": "95f5f0da-92aa-4139-cd83-39fc5ac57aad"
      },
      "execution_count": null,
      "outputs": [
        {
          "output_type": "execute_result",
          "data": {
            "text/plain": [
              "22"
            ]
          },
          "metadata": {},
          "execution_count": 10
        }
      ]
    }
  ]
}